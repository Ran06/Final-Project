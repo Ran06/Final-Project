{
 "cells": [
  {
   "cell_type": "code",
   "execution_count": 15,
   "id": "2b154ab6",
   "metadata": {},
   "outputs": [
    {
     "name": "stdout",
     "output_type": "stream",
     "text": [
      "Enter your name : Kenza\n",
      "Enter the name of your interest : Adam\n",
      "FLAMES....\n",
      "F = Friend \n",
      "L = Love \n",
      "A = Affection \n",
      "M = Marriage \n",
      "E = Enemy \n",
      "S = Siblings \n",
      "\n",
      "\n",
      "Your Relationship is : Siblings\n"
     ]
    }
   ],
   "source": [
    "#FINAL PROJECT : FLAMES\n",
    "def Flames(name1, name2) :\n",
    "    namestr = name1 + name2\n",
    "    for c in namestr:\n",
    "        if namestr.count(c) != 1:\n",
    "            # counting common letters\n",
    "            namestr = namestr.replace(c,\"\")\n",
    "\n",
    "    print(\"FLAMES....\")\n",
    "    print(\"F = Friend \\nL = Love \\nA = Affection \\nM = Marriage \\nE = Enemy \\nS = Siblings \\n\\n\")\n",
    "\n",
    "    number = len(namestr) % 6\n",
    "    rel = \"\"\n",
    "    if number == 1:\n",
    "        rel += \"Friends\"\n",
    "    elif number == 2:\n",
    "        rel += \"Love\"\n",
    "    elif number == 3:\n",
    "        rel += \"Affection\"\n",
    "    elif number == 4:\n",
    "        rel += \"Marriage\"\n",
    "    elif number == 5:\n",
    "        rel += \"Enemy\"\n",
    "    elif number == 0:\n",
    "        rel += \"Siblings\"\n",
    "    else:\n",
    "        pass\n",
    "    return rel\n",
    "\n",
    "n1 = input(\"Enter your name : \").upper()\n",
    "n2 = input(\"Enter the name of your interest : \").upper()\n",
    "print(f\"Your Relationship is : {Flames(n1,n2)}\")"
   ]
  },
  {
   "cell_type": "code",
   "execution_count": null,
   "id": "4049b370",
   "metadata": {},
   "outputs": [],
   "source": []
  },
  {
   "cell_type": "code",
   "execution_count": null,
   "id": "86898b41",
   "metadata": {},
   "outputs": [],
   "source": []
  }
 ],
 "metadata": {
  "kernelspec": {
   "display_name": "Python 3 (ipykernel)",
   "language": "python",
   "name": "python3"
  },
  "language_info": {
   "codemirror_mode": {
    "name": "ipython",
    "version": 3
   },
   "file_extension": ".py",
   "mimetype": "text/x-python",
   "name": "python",
   "nbconvert_exporter": "python",
   "pygments_lexer": "ipython3",
   "version": "3.9.12"
  }
 },
 "nbformat": 4,
 "nbformat_minor": 5
}
