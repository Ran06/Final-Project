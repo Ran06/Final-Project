{
 "cells": [
  {
   "cell_type": "code",
   "execution_count": 4,
   "id": "0ff264cc",
   "metadata": {},
   "outputs": [
    {
     "name": "stdout",
     "output_type": "stream",
     "text": [
      "00:00:01\r"
     ]
    },
    {
     "data": {
      "text/plain": [
       "0"
      ]
     },
     "execution_count": 4,
     "metadata": {},
     "output_type": "execute_result"
    }
   ],
   "source": [
    "import time\n",
    "n = 60\n",
    "while n > 0 : \n",
    "    mins, secs = divmod(n, 60)\n",
    "    hours, mins = divmod(mins, 60)\n",
    "    print(f'{hours:02d}:{mins:02d}:{secs:02d}', end = '\\r')\n",
    "    time.sleep(1)\n",
    "    n -= 1\n",
    "n"
   ]
  },
  {
   "cell_type": "code",
   "execution_count": null,
   "id": "fbdd579a",
   "metadata": {},
   "outputs": [],
   "source": []
  }
 ],
 "metadata": {
  "kernelspec": {
   "display_name": "Python 3 (ipykernel)",
   "language": "python",
   "name": "python3"
  },
  "language_info": {
   "codemirror_mode": {
    "name": "ipython",
    "version": 3
   },
   "file_extension": ".py",
   "mimetype": "text/x-python",
   "name": "python",
   "nbconvert_exporter": "python",
   "pygments_lexer": "ipython3",
   "version": "3.9.12"
  }
 },
 "nbformat": 4,
 "nbformat_minor": 5
}
